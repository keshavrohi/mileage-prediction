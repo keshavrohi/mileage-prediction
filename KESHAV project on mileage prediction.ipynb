{
  "nbformat": 4,
  "nbformat_minor": 0,
  "metadata": {
    "colab": {
      "provenance": []
    },
    "kernelspec": {
      "name": "python3",
      "display_name": "Python 3"
    },
    "language_info": {
      "name": "python"
    }
  },
  "cells": [
    {
      "cell_type": "markdown",
      "source": [
        "1. Title of Project:\n",
        "Mileage Prediction: A Linear Regression Approach"
      ],
      "metadata": {
        "id": "J1Adtp3xfjIH"
      }
    },
    {
      "cell_type": "markdown",
      "source": [
        "2. Objective:\n",
        "The objective of this project is to build a machine learning model that predicts the mileage (miles per gallon - mpg) of cars based on various features such as horsepower, weight, cylinders, and displacement."
      ],
      "metadata": {
        "id": "pdHTNv9sfszo"
      }
    },
    {
      "cell_type": "markdown",
      "source": [
        "3. Data Source:\n",
        "The dataset is obtained from the UCI Machine Learning Repository. Auto MPG Dataset"
      ],
      "metadata": {
        "id": "YRHi72NPfyY1"
      }
    },
    {
      "cell_type": "markdown",
      "source": [
        "4. Import Libraries:"
      ],
      "metadata": {
        "id": "MYSnyFUFf2tY"
      }
    },
    {
      "cell_type": "code",
      "source": [
        "import pandas as pd\n",
        "import numpy as np\n",
        "import matplotlib.pyplot as plt\n",
        "from sklearn.model_selection import train_test_split\n",
        "from sklearn.linear_model import LinearRegression\n",
        "from sklearn.metrics import mean_squared_error, r2_score\n"
      ],
      "metadata": {
        "id": "pH9gPFrSf_uW"
      },
      "execution_count": null,
      "outputs": []
    },
    {
      "cell_type": "markdown",
      "source": [
        "5. Import Data:"
      ],
      "metadata": {
        "id": "Arc0fA8MgG8T"
      }
    },
    {
      "cell_type": "code",
      "source": [
        "# Load the dataset\n",
        "data_url = \"https://archive.ics.uci.edu/ml/machine-learning-databases/auto-mpg/auto-mpg.data\"\n",
        "column_names = ['mpg', 'cylinders', 'displacement', 'horsepower', 'weight', 'acceleration', 'model_year', 'origin', 'car_name']\n",
        "data = pd.read_csv(data_url, delim_whitespace=True, names=column_names)\n"
      ],
      "metadata": {
        "id": "5dOSyuVXgH68"
      },
      "execution_count": null,
      "outputs": []
    },
    {
      "cell_type": "markdown",
      "source": [
        "6. Describe Data"
      ],
      "metadata": {
        "id": "ROfauPkugReD"
      }
    },
    {
      "cell_type": "code",
      "source": [
        "# Display basic information about the dataset\n",
        "print(data.info())\n",
        "\n",
        "# Display summary statistics\n",
        "print(data.describe())\n"
      ],
      "metadata": {
        "colab": {
          "base_uri": "https://localhost:8080/"
        },
        "id": "S6QJwNszgSZ9",
        "outputId": "d4216694-4d19-4895-9ccb-2e907399768f"
      },
      "execution_count": null,
      "outputs": [
        {
          "output_type": "stream",
          "name": "stdout",
          "text": [
            "<class 'pandas.core.frame.DataFrame'>\n",
            "RangeIndex: 398 entries, 0 to 397\n",
            "Data columns (total 9 columns):\n",
            " #   Column        Non-Null Count  Dtype  \n",
            "---  ------        --------------  -----  \n",
            " 0   mpg           398 non-null    float64\n",
            " 1   cylinders     398 non-null    int64  \n",
            " 2   displacement  398 non-null    float64\n",
            " 3   horsepower    398 non-null    object \n",
            " 4   weight        398 non-null    float64\n",
            " 5   acceleration  398 non-null    float64\n",
            " 6   model_year    398 non-null    int64  \n",
            " 7   origin        398 non-null    int64  \n",
            " 8   car_name      398 non-null    object \n",
            "dtypes: float64(4), int64(3), object(2)\n",
            "memory usage: 28.1+ KB\n",
            "None\n",
            "              mpg   cylinders  displacement       weight  acceleration  \\\n",
            "count  398.000000  398.000000    398.000000   398.000000    398.000000   \n",
            "mean    23.514573    5.454774    193.425879  2970.424623     15.568090   \n",
            "std      7.815984    1.701004    104.269838   846.841774      2.757689   \n",
            "min      9.000000    3.000000     68.000000  1613.000000      8.000000   \n",
            "25%     17.500000    4.000000    104.250000  2223.750000     13.825000   \n",
            "50%     23.000000    4.000000    148.500000  2803.500000     15.500000   \n",
            "75%     29.000000    8.000000    262.000000  3608.000000     17.175000   \n",
            "max     46.600000    8.000000    455.000000  5140.000000     24.800000   \n",
            "\n",
            "       model_year      origin  \n",
            "count  398.000000  398.000000  \n",
            "mean    76.010050    1.572864  \n",
            "std      3.697627    0.802055  \n",
            "min     70.000000    1.000000  \n",
            "25%     73.000000    1.000000  \n",
            "50%     76.000000    1.000000  \n",
            "75%     79.000000    2.000000  \n",
            "max     82.000000    3.000000  \n"
          ]
        }
      ]
    },
    {
      "cell_type": "markdown",
      "source": [
        "7. Data Visualization:"
      ],
      "metadata": {
        "id": "Q_tVV4hRga53"
      }
    },
    {
      "cell_type": "code",
      "source": [
        "# Visualize the distribution of the target variable (mpg)\n",
        "plt.figure(figsize=(8, 5))\n",
        "plt.hist(data['mpg'], bins=20, edgecolor='black')\n",
        "plt.title('Distribution of Mileage (mpg)')\n",
        "plt.xlabel('Miles Per Gallon (mpg)')\n",
        "plt.ylabel('Frequency')\n",
        "plt.show()\n"
      ],
      "metadata": {
        "colab": {
          "base_uri": "https://localhost:8080/",
          "height": 487
        },
        "id": "lYyYwTKPgby4",
        "outputId": "66582f76-7ac1-4a5e-aee7-f588fb3ddf19"
      },
      "execution_count": null,
      "outputs": [
        {
          "output_type": "display_data",
          "data": {
            "text/plain": [
              "<Figure size 800x500 with 1 Axes>"
            ],
            "image/png": "[encoded data removed]"
          },
          "metadata": {}
        }
      ]
    },
    {
      "cell_type": "markdown",
      "source": [
        "8. Data Preprocessing:"
      ],
      "metadata": {
        "id": "CfCInafrgif2"
      }
    },
    {
      "cell_type": "code",
      "source": [
        "# Handle missing values\n",
        "data.replace('?', np.nan, inplace=True)\n",
        "data.dropna(inplace=True)\n",
        "\n",
        "# Convert relevant columns to numeric\n",
        "data['horsepower'] = pd.to_numeric(data['horsepower'])\n",
        "\n",
        "# Encode categorical variables (if any)\n",
        "# For simplicity, let's assume there are no categorical variables in this example\n"
      ],
      "metadata": {
        "id": "qCreoCLHglzT"
      },
      "execution_count": null,
      "outputs": []
    },
    {
      "cell_type": "markdown",
      "source": [
        "9. Define Target Variable (y) and Feature Variables (X):"
      ],
      "metadata": {
        "id": "1KsYp586grXQ"
      }
    },
    {
      "cell_type": "code",
      "source": [
        "# Define target variable (y) and feature variables (X)\n",
        "X = data.drop(['mpg', 'car_name'], axis=1)\n",
        "y = data['mpg']\n"
      ],
      "metadata": {
        "id": "fst4MGDFgsKu"
      },
      "execution_count": null,
      "outputs": []
    },
    {
      "cell_type": "markdown",
      "source": [
        "10. Train-Test Split:"
      ],
      "metadata": {
        "id": "Lu1BFe0Igzwl"
      }
    },
    {
      "cell_type": "code",
      "source": [
        "# Split the dataset into training and testing sets\n",
        "X_train, X_test, y_train, y_test = train_test_split(X, y, test_size=0.2, random_state=42)\n"
      ],
      "metadata": {
        "id": "pFoEO2WBg2X_"
      },
      "execution_count": null,
      "outputs": []
    },
    {
      "cell_type": "markdown",
      "source": [
        "11. Modeling:"
      ],
      "metadata": {
        "id": "_TthJlHIg66w"
      }
    },
    {
      "cell_type": "code",
      "source": [
        "# Initialize the linear regression model\n",
        "model = LinearRegression()\n",
        "\n",
        "# Train the model\n",
        "model.fit(X_train, y_train)\n"
      ],
      "metadata": {
        "colab": {
          "base_uri": "https://localhost:8080/",
          "height": 74
        },
        "id": "m9ZYjA8Qg7xx",
        "outputId": "f2c27021-0b0c-45f4-d24d-ce1b589a748b"
      },
      "execution_count": null,
      "outputs": [
        {
          "output_type": "execute_result",
          "data": {
            "text/plain": [
              "LinearRegression()"
            ],
            "text/html": [
              "<style>#sk-container-id-1 {color: black;background-color: white;}#sk-container-id-1 pre{padding: 0;}#sk-container-id-1 div.sk-toggleable {background-color: white;}#sk-container-id-1 label.sk-toggleable__label {cursor: pointer;display: block;width: 100%;margin-bottom: 0;padding: 0.3em;box-sizing: border-box;text-align: center;}#sk-container-id-1 label.sk-toggleable__label-arrow:before {content: \"▸\";float: left;margin-right: 0.25em;color: #696969;}#sk-container-id-1 label.sk-toggleable__label-arrow:hover:before {color: black;}#sk-container-id-1 div.sk-estimator:hover label.sk-toggleable__label-arrow:before {color: black;}#sk-container-id-1 div.sk-toggleable__content {max-height: 0;max-width: 0;overflow: hidden;text-align: left;background-color: #f0f8ff;}#sk-container-id-1 div.sk-toggleable__content pre {margin: 0.2em;color: black;border-radius: 0.25em;background-color: #f0f8ff;}#sk-container-id-1 input.sk-toggleable__control:checked~div.sk-toggleable__content {max-height: 200px;max-width: 100%;overflow: auto;}#sk-container-id-1 input.sk-toggleable__control:checked~label.sk-toggleable__label-arrow:before {content: \"▾\";}#sk-container-id-1 div.sk-estimator input.sk-toggleable__control:checked~label.sk-toggleable__label {background-color: #d4ebff;}#sk-container-id-1 div.sk-label input.sk-toggleable__control:checked~label.sk-toggleable__label {background-color: #d4ebff;}#sk-container-id-1 input.sk-hidden--visually {border: 0;clip: rect(1px 1px 1px 1px);clip: rect(1px, 1px, 1px, 1px);height: 1px;margin: -1px;overflow: hidden;padding: 0;position: absolute;width: 1px;}#sk-container-id-1 div.sk-estimator {font-family: monospace;background-color: #f0f8ff;border: 1px dotted black;border-radius: 0.25em;box-sizing: border-box;margin-bottom: 0.5em;}#sk-container-id-1 div.sk-estimator:hover {background-color: #d4ebff;}#sk-container-id-1 div.sk-parallel-item::after {content: \"\";width: 100%;border-bottom: 1px solid gray;flex-grow: 1;}#sk-container-id-1 div.sk-label:hover label.sk-toggleable__label {background-color: #d4ebff;}#sk-container-id-1 div.sk-serial::before {content: \"\";position: absolute;border-left: 1px solid gray;box-sizing: border-box;top: 0;bottom: 0;left: 50%;z-index: 0;}#sk-container-id-1 div.sk-serial {display: flex;flex-direction: column;align-items: center;background-color: white;padding-right: 0.2em;padding-left: 0.2em;position: relative;}#sk-container-id-1 div.sk-item {position: relative;z-index: 1;}#sk-container-id-1 div.sk-parallel {display: flex;align-items: stretch;justify-content: center;background-color: white;position: relative;}#sk-container-id-1 div.sk-item::before, #sk-container-id-1 div.sk-parallel-item::before {content: \"\";position: absolute;border-left: 1px solid gray;box-sizing: border-box;top: 0;bottom: 0;left: 50%;z-index: -1;}#sk-container-id-1 div.sk-parallel-item {display: flex;flex-direction: column;z-index: 1;position: relative;background-color: white;}#sk-container-id-1 div.sk-parallel-item:first-child::after {align-self: flex-end;width: 50%;}#sk-container-id-1 div.sk-parallel-item:last-child::after {align-self: flex-start;width: 50%;}#sk-container-id-1 div.sk-parallel-item:only-child::after {width: 0;}#sk-container-id-1 div.sk-dashed-wrapped {border: 1px dashed gray;margin: 0 0.4em 0.5em 0.4em;box-sizing: border-box;padding-bottom: 0.4em;background-color: white;}#sk-container-id-1 div.sk-label label {font-family: monospace;font-weight: bold;display: inline-block;line-height: 1.2em;}#sk-container-id-1 div.sk-label-container {text-align: center;}#sk-container-id-1 div.sk-container {/* jupyter's `normalize.less` sets `[hidden] { display: none; }` but bootstrap.min.css set `[hidden] { display: none !important; }` so we also need the `!important` here to be able to override the default hidden behavior on the sphinx rendered scikit-learn.org. See: https://github.com/scikit-learn/scikit-learn/issues/21755 */display: inline-block !important;position: relative;}#sk-container-id-1 div.sk-text-repr-fallback {display: none;}</style><div id=\"sk-container-id-1\" class=\"sk-top-container\"><div class=\"sk-text-repr-fallback\"><pre>LinearRegression()</pre><b>In a Jupyter environment, please rerun this cell to show the HTML representation or trust the notebook. <br />On GitHub, the HTML representation is unable to render, please try loading this page with nbviewer.org.</b></div><div class=\"sk-container\" hidden><div class=\"sk-item\"><div class=\"sk-estimator sk-toggleable\"><input class=\"sk-toggleable__control sk-hidden--visually\" id=\"sk-estimator-id-1\" type=\"checkbox\" checked><label for=\"sk-estimator-id-1\" class=\"sk-toggleable__label sk-toggleable__label-arrow\">LinearRegression</label><div class=\"sk-toggleable__content\"><pre>LinearRegression()</pre></div></div></div></div></div>"
            ]
          },
          "metadata": {},
          "execution_count": 8
        }
      ]
    },
    {
      "cell_type": "markdown",
      "source": [
        "12. Model Evaluation:"
      ],
      "metadata": {
        "id": "o48FeeHNhCc3"
      }
    },
    {
      "cell_type": "code",
      "source": [
        "# Make predictions on the testing set\n",
        "y_pred = model.predict(X_test)\n",
        "\n",
        "# Evaluate the model\n",
        "mse = mean_squared_error(y_test, y_pred)\n",
        "r2 = r2_score(y_test, y_pred)\n",
        "\n",
        "print(f\"Mean Squared Error: {mse}\")\n",
        "print(f\"R-squared: {r2}\")\n"
      ],
      "metadata": {
        "colab": {
          "base_uri": "https://localhost:8080/"
        },
        "id": "eXzgQEauhFgj",
        "outputId": "a0b98a3c-c936-4472-dd5d-00578f731a59"
      },
      "execution_count": null,
      "outputs": [
        {
          "output_type": "stream",
          "name": "stdout",
          "text": [
            "Mean Squared Error: 10.710864418838366\n",
            "R-squared: 0.7901500386760351\n"
          ]
        }
      ]
    },
    {
      "cell_type": "markdown",
      "source": [
        "13. Prediction:"
      ],
      "metadata": {
        "id": "Qz-xYI4ohMRL"
      }
    },
    {
      "cell_type": "code",
      "source": [
        "# Make a prediction for a new data point (you can modify this based on your dataset)\n",
        "new_data_point = np.array([4, 120, 80, 3000, 15.5, 78, 1]).reshape(1, -1)\n",
        "predicted_mpg = model.predict(new_data_point)\n",
        "print(f\"Predicted MPG for the new data point: {predicted_mpg[0]}\")\n"
      ],
      "metadata": {
        "colab": {
          "base_uri": "https://localhost:8080/"
        },
        "id": "ydY5ae5phNTD",
        "outputId": "acd68225-4ae2-4451-a351-4a5947b4fccc"
      },
      "execution_count": null,
      "outputs": [
        {
          "output_type": "stream",
          "name": "stdout",
          "text": [
            "Predicted MPG for the new data point: 23.887116790919503\n"
          ]
        },
        {
          "output_type": "stream",
          "name": "stderr",
          "text": [
            "/usr/local/lib/python3.10/dist-packages/sklearn/base.py:439: UserWarning: X does not have valid feature names, but LinearRegression was fitted with feature names\n",
            "  warnings.warn(\n"
          ]
        }
      ]
    },
    {
      "cell_type": "markdown",
      "source": [
        "14. Explanation:\n",
        "The linear regression model has been trained on the provided dataset to predict the mileage of cars based on their features. The mean squared error and R-squared are used to evaluate the model's performance. The project also includes basic data visualization to understand the distribution of the target variable (mpg) and preprocessing steps to handle missing values and convert data types. The model can now be used to make predictions for new data points."
      ],
      "metadata": {
        "id": "LlEN_9QFhTGd"
      }
    }
  ]
}